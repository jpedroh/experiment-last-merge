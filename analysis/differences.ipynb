{
 "cells": [
  {
   "cell_type": "markdown",
   "metadata": {},
   "source": [
    "# Analyzing differences between the tools\n",
    "This script calculates differences between the output of each tools. You can control the tools being compared by changing the `TOOL_A` and `TOOL_B` variables"
   ]
  },
  {
   "cell_type": "code",
   "execution_count": null,
   "metadata": {},
   "outputs": [],
   "source": [
    "from helpers.sqlite_helpers import sql_query_to_pd\n",
    "\n",
    "(TOOL_A, TOOL_B) = ('jdime', 'last_merge')\n",
    "# (TOOL_A, TOOL_B) = ('spork', 'mergiraf')\n",
    "# (TOOL_A, TOOL_B) = ('last_merge', 'mergiraf')"
   ]
  },
  {
   "cell_type": "markdown",
   "metadata": {},
   "source": [
    "## Situation 1 - Tools integrate without conflicts and are syntactically equivalent"
   ]
  },
  {
   "cell_type": "code",
   "execution_count": null,
   "metadata": {},
   "outputs": [],
   "source": [
    "scenarios_in_which_both_tools_integrated_without_conflict_and_outputs_are_equivalent_query = f\"\"\"\n",
    "  SELECT\n",
    "    gepc.scenario_id\n",
    "  FROM\n",
    "    global_executions_per_commit_filtered gepc\n",
    "  JOIN\n",
    "    {TOOL_A}_{TOOL_B}_equivalency_per_commit epc\n",
    "  ON\n",
    "    gepc.scenario_id = epc.scenario_id\n",
    "  WHERE\n",
    "    outputs_equivalent = 1\n",
    "    AND {TOOL_A}_result = 'SUCCESS_WITHOUT_CONFLICTS'\n",
    "    AND {TOOL_B}_result = 'SUCCESS_WITHOUT_CONFLICTS'\n",
    "\"\"\"\n",
    "\n",
    "sql_query_to_pd(scenarios_in_which_both_tools_integrated_without_conflict_and_outputs_are_equivalent_query)"
   ]
  },
  {
   "cell_type": "markdown",
   "metadata": {},
   "source": [
    "## Situation 2 - Tools integrate without conflicts, but there are syntactic differences"
   ]
  },
  {
   "cell_type": "code",
   "execution_count": null,
   "metadata": {},
   "outputs": [],
   "source": [
    "scenarios_in_which_both_tools_integrated_without_conflict_and_outputs_are_different_query = f\"\"\"\n",
    "  SELECT\n",
    "    gepc.scenario_id\n",
    "  FROM\n",
    "    global_executions_per_commit_filtered gepc\n",
    "  JOIN\n",
    "    {TOOL_A}_{TOOL_B}_equivalency_per_commit epc\n",
    "  ON\n",
    "    gepc.scenario_id = epc.scenario_id\n",
    "  WHERE\n",
    "    outputs_equivalent = 0\n",
    "    AND {TOOL_A}_result = 'SUCCESS_WITHOUT_CONFLICTS'\n",
    "    AND {TOOL_B}_result = 'SUCCESS_WITHOUT_CONFLICTS'\n",
    "\"\"\"\n",
    "\n",
    "sql_query_to_pd(scenarios_in_which_both_tools_integrated_without_conflict_and_outputs_are_different_query)"
   ]
  },
  {
   "cell_type": "markdown",
   "metadata": {},
   "source": [
    "## Situation 3 - With conflicts and the conflicts are equal"
   ]
  },
  {
   "cell_type": "code",
   "execution_count": null,
   "metadata": {},
   "outputs": [],
   "source": [
    "scenarios_in_which_tools_found_conflict_on_different_files_query = f\"\"\"\n",
    "  SELECT\n",
    "    scenario_id,\n",
    "    file_path,\n",
    "    {TOOL_A}_result,\n",
    "    {TOOL_B}_result\n",
    "  FROM\n",
    "    global_executions\n",
    "  WHERE\n",
    "    scenario_id IN (\n",
    "      SELECT\n",
    "        gepc.scenario_id\n",
    "      FROM\n",
    "        global_executions_per_commit_filtered gepc\n",
    "      WHERE\n",
    "        {TOOL_A}_result = 'SUCCESS_WITH_CONFLICTS'\n",
    "        AND {TOOL_B}_result = 'SUCCESS_WITH_CONFLICTS'\n",
    "    )\n",
    "    AND\n",
    "    {TOOL_A}_result != {TOOL_B}_result\n",
    "\"\"\"\n",
    "scenarios_in_which_tools_found_conflict_on_different_files = sql_query_to_pd(scenarios_in_which_tools_found_conflict_on_different_files_query)\n",
    "scenarios_in_which_tools_found_conflict_on_different_files"
   ]
  },
  {
   "cell_type": "code",
   "execution_count": null,
   "metadata": {},
   "outputs": [],
   "source": [
    "scenarios_in_which_both_tools_found_conflict_and_they_are_equal_query = f\"\"\"\n",
    "  SELECT\n",
    "    scenario_id,\n",
    "    count(file_path),\n",
    "    sum(all_conflicts_match)\n",
    "  FROM\n",
    "    {TOOL_A}_{TOOL_B}_global_conflicts_information\n",
    "  WHERE\n",
    "    scenario_id IN (\n",
    "      SELECT\n",
    "        gepc.scenario_id\n",
    "      FROM\n",
    "        global_executions_per_commit_filtered gepc\n",
    "      WHERE\n",
    "        {TOOL_A}_result = 'SUCCESS_WITH_CONFLICTS'\n",
    "        AND {TOOL_B}_result = 'SUCCESS_WITH_CONFLICTS'\n",
    "    )\n",
    "    AND scenario_id NOT IN (SELECT scenario_id FROM ({scenarios_in_which_tools_found_conflict_on_different_files_query}))\n",
    "    GROUP BY\n",
    "      scenario_id\n",
    "    HAVING\n",
    "      count(distinct file_path) == sum(all_conflicts_match)\n",
    "\"\"\"\n",
    "\n",
    "sql_query_to_pd(scenarios_in_which_both_tools_found_conflict_and_they_are_equal_query)"
   ]
  },
  {
   "cell_type": "markdown",
   "metadata": {},
   "source": [
    "## Situation 4 - With conflicts but the conflicts are different"
   ]
  },
  {
   "cell_type": "code",
   "execution_count": null,
   "metadata": {},
   "outputs": [],
   "source": [
    "scenarios_in_which_both_tools_found_conflict_on_the_same_file_but_they_are_different_query = f\"\"\"\n",
    "  SELECT\n",
    "    scenario_id,\n",
    "    count(file_path),\n",
    "    sum(all_conflicts_match)\n",
    "  FROM\n",
    "    {TOOL_A}_{TOOL_B}_global_conflicts_information\n",
    "  WHERE\n",
    "    scenario_id IN (\n",
    "      SELECT\n",
    "        gepc.scenario_id\n",
    "      FROM\n",
    "        global_executions_per_commit_filtered gepc\n",
    "      WHERE\n",
    "        {TOOL_A}_result = 'SUCCESS_WITH_CONFLICTS'\n",
    "        AND {TOOL_B}_result = 'SUCCESS_WITH_CONFLICTS'\n",
    "    )\n",
    "    GROUP BY\n",
    "      scenario_id\n",
    "    HAVING\n",
    "      count(distinct file_path) != sum(all_conflicts_match)\n",
    "\"\"\"\n",
    "\n",
    "scenarios_in_which_both_tools_found_conflict_but_they_are_different_query = f\"\"\"\n",
    "  SELECT\n",
    "    scenario_id\n",
    "  FROM\n",
    "    ({scenarios_in_which_both_tools_found_conflict_on_the_same_file_but_they_are_different_query})\n",
    "  UNION\n",
    "  SELECT\n",
    "    scenario_id\n",
    "  FROM\n",
    "    ({scenarios_in_which_tools_found_conflict_on_different_files_query})\n",
    "\"\"\"\n",
    "\n",
    "scenarios_in_which_both_tools_found_conflict_but_they_are_different = sql_query_to_pd(scenarios_in_which_both_tools_found_conflict_but_they_are_different_query)\n",
    "scenarios_in_which_both_tools_found_conflict_but_they_are_different"
   ]
  },
  {
   "cell_type": "markdown",
   "metadata": {},
   "source": [
    "## Situation 5 - Disagreement about the existence of conflicts"
   ]
  },
  {
   "cell_type": "code",
   "execution_count": null,
   "metadata": {},
   "outputs": [],
   "source": [
    "scenarios_with_distinct_results_query = f\"\"\"\n",
    "  SELECT\n",
    "    scenario_id, project, merge_sha, {TOOL_A}_result, {TOOL_B}_result\n",
    "  FROM\n",
    "    global_executions_per_commit_filtered gepc\n",
    "  WHERE\n",
    "    {TOOL_A}_result != {TOOL_B}_result\n",
    "\"\"\"\n",
    "\n",
    "sql_query_to_pd(scenarios_with_distinct_results_query)"
   ]
  },
  {
   "cell_type": "code",
   "execution_count": null,
   "metadata": {},
   "outputs": [],
   "source": [
    "count_of_distinct_results_by_tool_query = f\"\"\"\n",
    "  SELECT\n",
    "    '{TOOL_A.upper()}' as tool,\n",
    "    count(scenario_id) as exclusive_conflicts_count\n",
    "  FROM\n",
    "    ({scenarios_with_distinct_results_query})\n",
    "  WHERE\n",
    "    {TOOL_A}_result = 'SUCCESS_WITH_CONFLICTS'\n",
    "  UNION\n",
    "  SELECT\n",
    "    '{TOOL_B.upper()}' as tool,\n",
    "    count(scenario_id) as exclusive_conflicts_count\n",
    "  FROM\n",
    "    ({scenarios_with_distinct_results_query})\n",
    "  WHERE\n",
    "    {TOOL_B}_result = 'SUCCESS_WITH_CONFLICTS'\n",
    "\"\"\"\n",
    "\n",
    "sql_query_to_pd(count_of_distinct_results_by_tool_query)"
   ]
  },
  {
   "cell_type": "markdown",
   "metadata": {},
   "source": [
    "## Condensed visualization"
   ]
  },
  {
   "cell_type": "code",
   "execution_count": null,
   "metadata": {},
   "outputs": [],
   "source": [
    "scenarios_percentage_subquery = f\"\"\"ROUND(COUNT(*) * 100.0 / (SELECT COUNT(scenario_id) FROM global_executions_per_commit_filtered), 2) as Percentage\"\"\"\n",
    "\n",
    "sql_query_to_pd(f\"\"\"\n",
    "  SELECT\n",
    "    'Same results' as Situation, COUNT(*) as Total, {scenarios_percentage_subquery}\n",
    "  FROM\n",
    "    (\n",
    "      SELECT scenario_id FROM ({scenarios_in_which_both_tools_integrated_without_conflict_and_outputs_are_equivalent_query})\n",
    "      UNION\n",
    "      SELECT scenario_id FROM ({scenarios_in_which_both_tools_found_conflict_and_they_are_equal_query})\n",
    "    )\n",
    "  UNION\n",
    "  SELECT\n",
    "    'Different results' as Situation, COUNT(*) as Total, {scenarios_percentage_subquery}\n",
    "  FROM\n",
    "    (\n",
    "      SELECT scenario_id FROM ({scenarios_in_which_both_tools_integrated_without_conflict_and_outputs_are_different_query})\n",
    "      UNION\n",
    "      SELECT scenario_id FROM ({scenarios_with_distinct_results_query})\n",
    "      UNION\n",
    "      SELECT scenario_id FROM ({scenarios_in_which_both_tools_found_conflict_but_they_are_different_query})\n",
    "    )\n",
    "\"\"\")"
   ]
  },
  {
   "cell_type": "markdown",
   "metadata": {},
   "source": [
    "## Granular visualization"
   ]
  },
  {
   "cell_type": "code",
   "execution_count": null,
   "metadata": {},
   "outputs": [],
   "source": [
    "scenarios_percentage_subquery = f\"\"\"ROUND(COUNT(distinct scenario_id) * 100.0 / (SELECT COUNT(scenario_id) FROM global_executions_per_commit_filtered), 2) as Percentage\"\"\"\n",
    "\n",
    "scenario_resume_query = f\"\"\"\n",
    "  SELECT\n",
    "    '1. No conflicts and syntactically equivalent' as situation, scenario_id\n",
    "  FROM\n",
    "    ({scenarios_in_which_both_tools_integrated_without_conflict_and_outputs_are_equivalent_query})\n",
    "  UNION\n",
    "  SELECT\n",
    "    '2. No conflicts but syntactically different' as situation, scenario_id\n",
    "  FROM\n",
    "    ({scenarios_in_which_both_tools_integrated_without_conflict_and_outputs_are_different_query})\n",
    "  UNION\n",
    "  SELECT\n",
    "    '3. With conflicts and equal/subset textually' as situation, scenario_id\n",
    "  FROM\n",
    "    ({scenarios_in_which_both_tools_found_conflict_and_they_are_equal_query})\n",
    "  UNION\n",
    "  SELECT\n",
    "    '4. With conflicts but not equal/subset textually' as situation, scenario_id\n",
    "  FROM\n",
    "    ({scenarios_in_which_both_tools_found_conflict_but_they_are_different_query})\n",
    "  UNION\n",
    "  SELECT\n",
    "    '5. Disagreement on the existence of conflicts' as situation, scenario_id\n",
    "  FROM\n",
    "    ({scenarios_with_distinct_results_query})\n",
    "\"\"\"\n",
    "\n",
    "visualization_query = f\"\"\"\n",
    "  SELECT\n",
    "    situation,\n",
    "    COUNT(scenario_id) as Total,\n",
    "    {scenarios_percentage_subquery}\n",
    "  FROM\n",
    "    ({scenario_resume_query})\n",
    "  GROUP BY\n",
    "    situation\n",
    "  ORDER BY\n",
    "    situation\n",
    "\"\"\"\n",
    "sql_query_to_pd(visualization_query)"
   ]
  }
 ],
 "metadata": {
  "kernelspec": {
   "display_name": "Python 3",
   "language": "python",
   "name": "python3"
  },
  "language_info": {
   "codemirror_mode": {
    "name": "ipython",
    "version": 3
   },
   "file_extension": ".py",
   "mimetype": "text/x-python",
   "name": "python",
   "nbconvert_exporter": "python",
   "pygments_lexer": "ipython3",
   "version": "3.11.11"
  }
 },
 "nbformat": 4,
 "nbformat_minor": 2
}
