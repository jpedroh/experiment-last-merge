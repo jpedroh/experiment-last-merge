{
 "cells": [
  {
   "cell_type": "markdown",
   "metadata": {},
   "source": [
    "# Merge Accuracy analysis\n",
    "\n",
    "These scripts are executed when tools disagree on the existence of conflicts in order to estimate merge accuracy. You can control the tools being compared by tweaking the `TOOL_A` and `TOOL_B` variables."
   ]
  },
  {
   "cell_type": "code",
   "execution_count": null,
   "metadata": {},
   "outputs": [],
   "source": [
    "from helpers.sqlite_helpers import sql_query_to_pd\n",
    "\n",
    "(TOOL_A, TOOL_B) = ('jdime', 'last_merge')\n",
    "# (TOOL_A, TOOL_B) = ('spork', 'mergiraf')"
   ]
  },
  {
   "cell_type": "markdown",
   "metadata": {},
   "source": [
    "## Situation 1 - Tool A reports a conflict and B is syntactically equivalent to the merge (Added false positive from A)"
   ]
  },
  {
   "cell_type": "code",
   "execution_count": null,
   "metadata": {},
   "outputs": [],
   "source": [
    "scenarios_with_distinct_results_query = f\"\"\"\n",
    "  SELECT\n",
    "    *\n",
    "  FROM\n",
    "    global_executions_per_commit_filtered gepc\n",
    "  WHERE\n",
    "    {TOOL_A}_result != {TOOL_B}_result\n",
    "\"\"\"\n",
    "\n",
    "def count_false_positives_for_tool(tool_a: str, tool_b: str) -> str:\n",
    "  return f\"\"\"\n",
    "    SELECT\n",
    "      scenario_id,\n",
    "      '{tool_a.upper()}' as tool\n",
    "    FROM\n",
    "      {tool_b}_executions_per_commit_filtered\n",
    "    WHERE\n",
    "      scenario_id IN (SELECT scenario_id FROM ({scenarios_with_distinct_results_query}))\n",
    "      AND result = 'SUCCESS_WITHOUT_CONFLICTS'\n",
    "      AND outputs_equivalent = 1\n",
    "  \"\"\"\n",
    "\n",
    "# A row in this table means that tool X produced a false positive in the scenario\n",
    "scenarios_in_which_one_tools_find_conflicts_and_another_fully_matches_query = f\"\"\"\n",
    "  {count_false_positives_for_tool(TOOL_A, TOOL_B)}\n",
    "  UNION\n",
    "  {count_false_positives_for_tool(TOOL_B, TOOL_A)}\n",
    "\"\"\"\n",
    "\n",
    "scenarios_in_which_one_tools_find_conflicts_and_another_fully_matches = sql_query_to_pd(scenarios_in_which_one_tools_find_conflicts_and_another_fully_matches_query)\n",
    "scenarios_in_which_one_tools_find_conflicts_and_another_fully_matches"
   ]
  },
  {
   "cell_type": "markdown",
   "metadata": {},
   "source": [
    "## Situation 2 - Tool A reports a conflict, B is not syntactically equivalent to the merge, but builds and tests pass (Added false positive from A)"
   ]
  },
  {
   "cell_type": "code",
   "execution_count": null,
   "metadata": {},
   "outputs": [],
   "source": [
    "def get_scenarios_in_which_one_tools_find_conflicts_but_the_other_do_not_match_merge_query(tool_a: str) -> str:\n",
    "    return f\"\"\"\n",
    "    SELECT\n",
    "      scenario_id,\n",
    "      '{tool_a.upper()}' as tool_that_will_be_tested\n",
    "    FROM\n",
    "      {tool_a}_executions_per_commit_filtered\n",
    "    WHERE\n",
    "      scenario_id IN (SELECT scenario_id FROM ({scenarios_with_distinct_results_query}))\n",
    "      AND result = 'SUCCESS_WITHOUT_CONFLICTS'\n",
    "      AND outputs_equivalent = 0\n",
    "  \"\"\"\n",
    "\n",
    "scenarios_in_which_one_tools_find_conflicts_but_the_other_do_not_match_merge_query = f\"\"\"\n",
    "  {get_scenarios_in_which_one_tools_find_conflicts_but_the_other_do_not_match_merge_query(TOOL_A)}\n",
    "  UNION\n",
    "  {get_scenarios_in_which_one_tools_find_conflicts_but_the_other_do_not_match_merge_query(TOOL_B)}\n",
    "\"\"\"\n",
    "\n",
    "scenarios_in_which_one_tool_find_conflicts_but_the_other_passes_tests_query = f\"\"\"\n",
    "    SELECT\n",
    "        CASE WHEN UPPER(snv.tool_that_will_be_tested) = UPPER('{TOOL_A}') THEN UPPER('{TOOL_B}') ELSE UPPER('{TOOL_A}') END as tool,\n",
    "        tr.scenario_id\n",
    "    FROM\n",
    "        test_results as tr\n",
    "    JOIN\n",
    "        ({scenarios_in_which_one_tools_find_conflicts_but_the_other_do_not_match_merge_query}) as snv\n",
    "    ON\n",
    "        tr.scenario_id = snv.scenario_id AND UPPER(tr.tool) == UPPER(snv.tool_that_will_be_tested)\n",
    "    WHERE\n",
    "        status = 'success'\n",
    "        AND UPPER(tr.tool) IN (UPPER('{TOOL_A}'), UPPER('{TOOL_B}'))\n",
    "    ORDER BY\n",
    "        tr.scenario_id\n",
    "\"\"\"\n",
    "scenarios_in_which_one_tool_find_conflicts_but_the_other_passes_tests = sql_query_to_pd(scenarios_in_which_one_tool_find_conflicts_but_the_other_passes_tests_query)\n",
    "scenarios_in_which_one_tool_find_conflicts_but_the_other_passes_tests"
   ]
  },
  {
   "cell_type": "markdown",
   "metadata": {},
   "source": [
    "## Situation 3 - Tool A reports a conflict, B is not syntactically equivalent to the merge, builds and tests fail (False negative from B)"
   ]
  },
  {
   "cell_type": "code",
   "execution_count": null,
   "metadata": {},
   "outputs": [],
   "source": [
    "scenarios_in_which_one_tool_find_conflicts_but_the_other_fails_tests_query = f\"\"\"\n",
    "    SELECT\n",
    "        snv.tool_that_will_be_tested as tool,\n",
    "        tr.scenario_id\n",
    "    FROM\n",
    "        test_results as tr\n",
    "    JOIN\n",
    "        ({scenarios_in_which_one_tools_find_conflicts_but_the_other_do_not_match_merge_query}) as snv\n",
    "    ON\n",
    "        tr.scenario_id = snv.scenario_id AND UPPER(tr.tool) == snv.tool_that_will_be_tested\n",
    "    WHERE\n",
    "        status = 'failure'\n",
    "        AND UPPER(tr.tool) IN (UPPER('{TOOL_A}'), UPPER('{TOOL_B}'))\n",
    "    ORDER BY\n",
    "        tr.scenario_id\n",
    "\"\"\"\n",
    "scenarios_in_which_one_tool_find_conflicts_but_the_other_fails_tests = sql_query_to_pd(scenarios_in_which_one_tool_find_conflicts_but_the_other_fails_tests_query)\n",
    "scenarios_in_which_one_tool_find_conflicts_but_the_other_fails_tests"
   ]
  },
  {
   "cell_type": "markdown",
   "metadata": {},
   "source": [
    "# Visualization"
   ]
  },
  {
   "cell_type": "code",
   "execution_count": null,
   "metadata": {},
   "outputs": [],
   "source": [
    "false_positives_query = f\"\"\"\n",
    "SELECT\n",
    "    \"Situation 1 - False Positive\" AS situation,\n",
    "    tool,\n",
    "    scenario_id\n",
    "FROM\n",
    "    ({scenarios_in_which_one_tools_find_conflicts_and_another_fully_matches_query})\n",
    "UNION\n",
    "SELECT\n",
    "    \"Situation 2 - False Positive\" AS situation,\n",
    "    tool,\n",
    "    scenario_id\n",
    "FROM\n",
    "    ({scenarios_in_which_one_tool_find_conflicts_but_the_other_passes_tests_query})\n",
    "\"\"\"\n",
    "\n",
    "false_negatives_query = f\"\"\"\n",
    "SELECT\n",
    "    \"Situation 3 - False Negative\" AS situation,\n",
    "    tool,\n",
    "    scenario_id\n",
    "FROM\n",
    "    ({scenarios_in_which_one_tool_find_conflicts_but_the_other_fails_tests_query})\n",
    "\"\"\"\n",
    "\n",
    "resume_query = f\"\"\"\n",
    "SELECT * FROM ({false_positives_query})\n",
    "UNION\n",
    "SELECT * FROM ({false_negatives_query})\n",
    "\"\"\"\n",
    "\n",
    "visualization_query = f\"\"\"\n",
    "    SELECT situation, tool, count(scenario_id) FROM ({resume_query}) GROUP BY situation, tool\n",
    "\"\"\"\n",
    "sql_query_to_pd(visualization_query)"
   ]
  }
 ],
 "metadata": {
  "kernelspec": {
   "display_name": "Python 3",
   "language": "python",
   "name": "python3"
  },
  "language_info": {
   "codemirror_mode": {
    "name": "ipython",
    "version": 3
   },
   "file_extension": ".py",
   "mimetype": "text/x-python",
   "name": "python",
   "nbconvert_exporter": "python",
   "pygments_lexer": "ipython3",
   "version": "3.11.11"
  }
 },
 "nbformat": 4,
 "nbformat_minor": 2
}
