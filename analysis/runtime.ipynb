{
 "cells": [
  {
   "cell_type": "markdown",
   "metadata": {},
   "source": [
    "# Runtime execution data\n",
    "These scripts calculate and plot execution time for each tool."
   ]
  },
  {
   "cell_type": "code",
   "execution_count": null,
   "metadata": {},
   "outputs": [],
   "source": [
    "from helpers.sqlite_helpers import sql_query_to_pd\n",
    "import pandas as pd"
   ]
  },
  {
   "cell_type": "code",
   "execution_count": null,
   "metadata": {},
   "outputs": [],
   "source": [
    "def get_merge_tool_execution_time_per_scenario_query(tool_name: str) -> str:\n",
    "  return f\"\"\"\n",
    "    SELECT\n",
    "      scenario_id, time_in_ns / 1e6 as time_in_ms\n",
    "    FROM\n",
    "      {tool_name}_executions_per_commit_filtered\n",
    "  \"\"\""
   ]
  },
  {
   "cell_type": "code",
   "execution_count": null,
   "metadata": {},
   "outputs": [],
   "source": [
    "execution_time_per_scenario_query = f\"\"\"\n",
    "    SELECT\n",
    "        lm.time_in_ms as LAST_MERGE,\n",
    "        j.time_in_ms AS JDIME,\n",
    "        m.time_in_ms AS MERGIRAF,\n",
    "        s.time_in_ms AS SPORK\n",
    "    FROM\n",
    "      ({get_merge_tool_execution_time_per_scenario_query(\"last_merge\")}) lm\n",
    "    JOIN\n",
    "      ({get_merge_tool_execution_time_per_scenario_query(\"spork\")}) s\n",
    "    ON\n",
    "      lm.scenario_id = s.scenario_id\n",
    "    JOIN\n",
    "      ({get_merge_tool_execution_time_per_scenario_query(\"mergiraf\")}) m\n",
    "    ON\n",
    "      lm.scenario_id = m.scenario_id\n",
    "    JOIN\n",
    "      ({get_merge_tool_execution_time_per_scenario_query(\"jdime\")}) j\n",
    "    ON\n",
    "      lm.scenario_id = j.scenario_id\n",
    "  \"\"\"\n",
    "\n",
    "sql_query_to_pd(execution_time_per_scenario_query)"
   ]
  },
  {
   "cell_type": "markdown",
   "metadata": {},
   "source": [
    "## Plotting execution time per scenario"
   ]
  },
  {
   "cell_type": "code",
   "execution_count": null,
   "metadata": {},
   "outputs": [],
   "source": [
    "import matplotlib.pyplot as plt\n",
    "from scipy import stats\n",
    "import numpy as np\n",
    "\n",
    "execution_times = sql_query_to_pd(execution_time_per_scenario_query)\n",
    "execution_times\n",
    "\n",
    "tools = execution_times.columns\n",
    "\n",
    "fig, ax = plt.subplots(figsize=(8, 4))\n",
    "\n",
    "# Create a list of colors for the boxplots based on the number of features you have\n",
    "boxplots_colors = ['yellowgreen', 'olivedrab', 'blue', 'red']\n",
    "\n",
    "# Boxplot data\n",
    "bp = ax.boxplot(execution_times, patch_artist = True, vert = False, showfliers = False)\n",
    "\n",
    "# Change to the desired color and add transparency\n",
    "for patch, color in zip(bp['boxes'], boxplots_colors):\n",
    "    patch.set_facecolor(color)\n",
    "    patch.set_alpha(0.4)\n",
    "\n",
    "# Create a list of colors for the violin plots based on the number of features you have\n",
    "violin_colors = ['thistle', 'orchid', 'red', 'blue']\n",
    "\n",
    "# Violinplot data\n",
    "vp = ax.violinplot(execution_times, points=500,\n",
    "               showmeans=False, showextrema=False, showmedians=False, vert=False)\n",
    "\n",
    "for idx, b in enumerate(vp['bodies']):\n",
    "    # Get the center of the plot\n",
    "    m = np.mean(b.get_paths()[0].vertices[:, 0])\n",
    "    # Modify it so we only see the upper half of the violin plot\n",
    "    b.get_paths()[0].vertices[:, 1] = np.clip(b.get_paths()[0].vertices[:, 1], idx+1, idx+2)\n",
    "    # Change to the desired color\n",
    "    b.set_color(violin_colors[idx])\n",
    "\n",
    "# Create a list of colors for the scatter plots based on the number of features you have\n",
    "scatter_colors = ['tomato', 'darksalmon', 'red', 'tomato']\n",
    "\n",
    "# Scatterplot data\n",
    "for idx, features in enumerate(execution_times):\n",
    "    features = execution_times[features]\n",
    "    # Add jitter effect so the features do not overlap on the y-axis\n",
    "    y = np.full(len(features), idx + .8)\n",
    "    idxs = np.arange(len(y))\n",
    "    out = y.astype(float)\n",
    "    out.flat[idxs] += np.random.uniform(low=-.05, high=.05, size=len(idxs))\n",
    "    y = out\n",
    "    plt.scatter(features, y, s=.3, c=scatter_colors[idx])\n",
    "\n",
    "plt.yticks(np.arange(1,len(tools) + 1,1), tools)  # Set text labels.\n",
    "plt.xlabel('Time in ms')\n",
    "plt.title(\"Execution time per merge scenario (Raincloud)\")\n",
    "ax.set_xscale('log')\n",
    "plt.show()"
   ]
  },
  {
   "cell_type": "code",
   "execution_count": null,
   "metadata": {},
   "outputs": [],
   "source": [
    "execution_times = sql_query_to_pd(execution_time_per_scenario_query)\n",
    "stats = pd.DataFrame(data = [\n",
    "  {\n",
    "      \"tool\": tool,\n",
    "       \"average\": execution_times[tool].mean(),\n",
    "       \"std_avg\": execution_times[tool].std(),\n",
    "       \"median\": execution_times[tool].median(),\n",
    "       \"max\": execution_times[tool].max(),\n",
    "       \"min\": execution_times[tool].min()\n",
    "  } for tool in execution_times.columns\n",
    "])\n",
    "\n",
    "stats"
   ]
  }
 ],
 "metadata": {
  "kernelspec": {
   "display_name": "Python 3",
   "language": "python",
   "name": "python3"
  },
  "language_info": {
   "codemirror_mode": {
    "name": "ipython",
    "version": 3
   },
   "file_extension": ".py",
   "mimetype": "text/x-python",
   "name": "python",
   "nbconvert_exporter": "python",
   "pygments_lexer": "ipython3",
   "version": "3.11.11"
  }
 },
 "nbformat": 4,
 "nbformat_minor": 2
}
